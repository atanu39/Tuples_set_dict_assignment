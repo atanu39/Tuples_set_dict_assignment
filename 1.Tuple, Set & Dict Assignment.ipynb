{
 "cells": [
  {
   "cell_type": "markdown",
   "id": "4faf551d-c0bc-49f7-a0c0-a7eb1150d57b",
   "metadata": {
    "jp-MarkdownHeadingCollapsed": true,
    "tags": []
   },
   "source": [
    "## Q1. What are the characteristics of the tuples? Is tuple immutable?\n",
    "# Ans:\n",
    "### *Characteristics:\n",
    "### 1-Tuples are ordered, indexed collections of data. Similar to string indices, the first value in the tuple will have the index [0], the second value [1], and so on. \n",
    "### 2-Tuples can store duplicate values.\n",
    "### 3-Once data is assigned to a tuple, the values cannot be changed.immutable\n",
    "### 4-Tuples allow you to store several data items in one variable. You can choose to store only one kind of data in a tuple or mix it up as needed.\n",
    "\n",
    "## *Once the tuple elements are declared, they cannot be changed.So tuple is immutable.\n",
    "\n"
   ]
  },
  {
   "cell_type": "markdown",
   "id": "f325e78a-228f-4df0-8701-0b26c5c27771",
   "metadata": {},
   "source": [
    "# Q2. What are the two tuple methods in python? Give an example of each method. Give a reason why tuples have only two in-built methods as compared to Lists.\n",
    "\n",
    "## Ans:\n",
    "      tuple methods  :1)count()\n",
    "                      2)index()\n",
    "                      "
   ]
  },
  {
   "cell_type": "code",
   "execution_count": 16,
   "id": "046532a6-256d-4b22-bb0f-8bf9f5698802",
   "metadata": {},
   "outputs": [
    {
     "name": "stdout",
     "output_type": "stream",
     "text": [
      "Count of number 4 is :  5\n"
     ]
    }
   ],
   "source": [
    "# Example of count()\n",
    "#The count() method returns a number of times the given element i is present in the tuple\n",
    "\n",
    "t1=(1,2,3,4,4,4,4,4,5,6)\n",
    "\n",
    "print(\"Count of number 4 is : \",t1.count(4))"
   ]
  },
  {
   "cell_type": "code",
   "execution_count": 17,
   "id": "f96d4ff8-722f-475b-b0f9-6f3176184773",
   "metadata": {},
   "outputs": [
    {
     "name": "stdout",
     "output_type": "stream",
     "text": [
      "Index of number 5 is :  8\n"
     ]
    }
   ],
   "source": [
    "#Example of index()\n",
    "#The index() method returns the index of the specified element in the tuple.\n",
    "\n",
    "print(\"Index of number 5 is : \",t1.index(5))"
   ]
  },
  {
   "cell_type": "markdown",
   "id": "03462b6c-ab00-425f-8ef3-3ff7f200ec47",
   "metadata": {},
   "source": [
    "### : Reason why tuples have only two in-built methods as compared to Lists :\n",
    " \n",
    "### Tuple is immutable.Once the tuple elements are declared, they cannot be changed.That is why tuples have only two in-built methods as compared to Lists."
   ]
  },
  {
   "cell_type": "markdown",
   "id": "d26ea4b2-cd21-45e1-9faa-28b1a845c8c4",
   "metadata": {},
   "source": [
    "# Q3. Which collection datatypes in python do not allow duplicate items? Write a code using a set to remove duplicates from the given list.\n",
    "List = [1, 1, 1, 2, 1, 3, 1, 4, 2, 1, 2, 2, 2, 3, 2, 4, 3, 1, 3, 2, 3, 3, 3, 4, 4, 1, 4, 2, 4, 3, 4, 4]"
   ]
  },
  {
   "cell_type": "markdown",
   "id": "10aea75a-3424-4a5d-b013-7618fd615750",
   "metadata": {},
   "source": [
    "# Ans:\n",
    "## Sets are a collection data type that do not allow duplicate values to be held.\n"
   ]
  },
  {
   "cell_type": "code",
   "execution_count": 19,
   "id": "23e767fa-7664-44c5-9d6d-50c1e4086e78",
   "metadata": {},
   "outputs": [
    {
     "name": "stdout",
     "output_type": "stream",
     "text": [
      "Here are the numbers without duplicate value :  {1, 2, 3, 4}\n"
     ]
    }
   ],
   "source": [
    "## Code for using a set to remove duplicates\n",
    "List = [1, 1, 1, 2, 1, 3, 1, 4, 2, 1, 2, 2, 2, 3, 2, 4, 3, 1, 3, 2, 3, 3, 3, 4, 4, 1, 4, 2, 4, 3, 4, 4]\n",
    "\n",
    "#List under a set can not be defined,so by type casting we convert the list to a set.\n",
    "print(\"Here are the numbers without duplicate value : \",set(List))"
   ]
  },
  {
   "cell_type": "markdown",
   "id": "86f5fe5d-a103-4215-a69c-e4708b9b581b",
   "metadata": {
    "tags": []
   },
   "source": [
    "# Q4. Explain the difference between the union() and update() methods for a set. Give an example of each method."
   ]
  },
  {
   "cell_type": "markdown",
   "id": "4f796db4-a1a3-4494-a728-f5b5c4a99bab",
   "metadata": {},
   "source": [
    "# Ans :\n",
    "## Difference between the set union() and update() :\n",
    "### update() adds all missing elements to the set on which it is called.Calling set is changed.But union() creates a new set ,privious sets are unchanged."
   ]
  },
  {
   "cell_type": "code",
   "execution_count": 22,
   "id": "10c53c92-a0d2-41e2-bcad-56d6c423bf4d",
   "metadata": {},
   "outputs": [],
   "source": [
    "# Defining two sets s1 and s2\n",
    "s1={1,2,3,4}\n",
    "s2={'a','b','c','d'}"
   ]
  },
  {
   "cell_type": "code",
   "execution_count": 14,
   "id": "32973ae1-35e8-455c-bbc9-24d9b1f20811",
   "metadata": {},
   "outputs": [
    {
     "data": {
      "text/plain": [
       "{1, 2, 3, 4, 'a', 'b', 'c', 'd'}"
      ]
     },
     "execution_count": 14,
     "metadata": {},
     "output_type": "execute_result"
    }
   ],
   "source": [
    "## union method example:\n",
    "s1.union(s2)"
   ]
  },
  {
   "cell_type": "code",
   "execution_count": 15,
   "id": "f8d67d4e-124c-4c9b-9a38-10d1f9e938ce",
   "metadata": {},
   "outputs": [
    {
     "data": {
      "text/plain": [
       "{1, 2, 3, 4}"
      ]
     },
     "execution_count": 15,
     "metadata": {},
     "output_type": "execute_result"
    }
   ],
   "source": [
    "## s1 and s2 value not changed after union:\n",
    "s1"
   ]
  },
  {
   "cell_type": "code",
   "execution_count": 9,
   "id": "c656178f-8f54-41d0-890a-fa18d3f50ad4",
   "metadata": {},
   "outputs": [
    {
     "data": {
      "text/plain": [
       "{'a', 'b', 'c', 'd'}"
      ]
     },
     "execution_count": 9,
     "metadata": {},
     "output_type": "execute_result"
    }
   ],
   "source": [
    "s2"
   ]
  },
  {
   "cell_type": "code",
   "execution_count": 21,
   "id": "5f94a427-cd9a-44e9-8e5d-241c77cc9e86",
   "metadata": {},
   "outputs": [],
   "source": [
    "## update example:\n",
    "s1.update(s2)"
   ]
  },
  {
   "cell_type": "code",
   "execution_count": 21,
   "id": "41960ddc-acdf-4849-9059-e6fb38e36f9d",
   "metadata": {},
   "outputs": [
    {
     "data": {
      "text/plain": [
       "{1, 2, 3, 4, 'a', 'b', 'c', 'd'}"
      ]
     },
     "execution_count": 21,
     "metadata": {},
     "output_type": "execute_result"
    }
   ],
   "source": [
    "## s1 value changed after update with s2:\n",
    "s1"
   ]
  },
  {
   "cell_type": "markdown",
   "id": "3616d23c-f8bb-44ce-a6e8-f954fc50b9f9",
   "metadata": {},
   "source": [
    "# Q5. What is a dictionary? Give an example. Also, state whether a dictionary is ordered or unordered.\n"
   ]
  },
  {
   "cell_type": "markdown",
   "id": "ff0e464d-39d4-4ead-bea8-788a8c7431e2",
   "metadata": {},
   "source": [
    "## Ans :\n",
    "### The dictionary is an unordered collection that contains key:value pairs separated by commas inside curly brackets."
   ]
  },
  {
   "cell_type": "code",
   "execution_count": 28,
   "id": "142b9b7d-8451-4258-ad1f-bf567c9680b5",
   "metadata": {},
   "outputs": [
    {
     "name": "stdout",
     "output_type": "stream",
     "text": [
      "{'USA': 'Washington D.C.', 'France': 'Paris', 'India': 'New Delhi'}\n"
     ]
    }
   ],
   "source": [
    "\"Dictionary example\"\n",
    "\n",
    "capitals = {\"USA\":\"Washington D.C.\", \"France\":\"Paris\", \"India\":\"New Delhi\"}\n",
    "print(capitals)\n"
   ]
  },
  {
   "cell_type": "markdown",
   "id": "b62bbf3a-3e85-45b0-aebb-4c16de740e7a",
   "metadata": {},
   "source": [
    "### Above, \"capitals\" is a dictionary object which contains key-value pairs inside { }. The left side of : is a key, and the right side is a value.The key should be unique and an immutable object. A number, string or tuple can be used as key."
   ]
  },
  {
   "cell_type": "markdown",
   "id": "92b9771c-3516-4b4c-af4a-216e590e7981",
   "metadata": {},
   "source": [
    "## Dictionary is unorderd collection,value cannot be accessed using an index.Value accessed from a dictionary by key specified in the square brackets."
   ]
  },
  {
   "cell_type": "markdown",
   "id": "358095c9-0183-492d-a83e-d73ef0e4e379",
   "metadata": {},
   "source": [
    "# Q6. Can we create a nested dictionary? If so, please give an example by creating a simple one-level nested dictionary."
   ]
  },
  {
   "cell_type": "markdown",
   "id": "288e7787-0a35-48da-aa21-11e4b037569e",
   "metadata": {},
   "source": [
    "# Ans :\n",
    "##    A dictionary can contain another dictionary, which in turn can contain dictionaries themselves, and so on to arbitrary depth. This is known as nested dictionary.A nested dictionary is created the same way a normal dictionary is created. The only difference is that each value is another dictionary."
   ]
  },
  {
   "cell_type": "code",
   "execution_count": 4,
   "id": "0681c014-28e1-4259-a5b2-3f5b58897c41",
   "metadata": {},
   "outputs": [
    {
     "name": "stdout",
     "output_type": "stream",
     "text": [
      "{'emp1': {'name': 'Bob', 'job': 'Mgr'}, 'emp2': {'name': 'Kim', 'job': 'Dev'}, 'emp3': {'name': 'Sam', 'job': 'Dev'}}\n"
     ]
    }
   ],
   "source": [
    "# Let’s build a nested-dictionary that stores employee record.\n",
    "\n",
    "ND1 = {'emp1': {'name': 'Bob', 'job': 'Mgr'},\n",
    "     'emp2': {'name': 'Kim', 'job': 'Dev'},\n",
    "     'emp3': {'name': 'Sam', 'job': 'Dev'}}\n",
    "print(ND1)"
   ]
  },
  {
   "cell_type": "code",
   "execution_count": 5,
   "id": "261a5a14-335c-40b4-80b1-f16a83301b6a",
   "metadata": {},
   "outputs": [
    {
     "name": "stdout",
     "output_type": "stream",
     "text": [
      "{'emp1': {'name': 'Bob', 'job': 'Mgr'}, 'emp2': {'name': 'Kim', 'job': 'Dev'}, 'emp3': {'name': 'Sam', 'job': 'Dev'}}\n"
     ]
    }
   ],
   "source": [
    "# Let’s build a nested-dictionary that stores employee record.(using a type constructor)\n",
    "# To create a nested dictionary, simply pass dictionary key:value pair as keyword arguments to dict() Constructor.\n",
    "\n",
    "ND2 = dict(emp1 = {'name': 'Bob', 'job': 'Mgr'},\n",
    "         emp2 = {'name': 'Kim', 'job': 'Dev'},\n",
    "         emp3 = {'name': 'Sam', 'job': 'Dev'})\n",
    "print(ND2)"
   ]
  },
  {
   "cell_type": "code",
   "execution_count": 7,
   "id": "b693f518-9a30-4a42-a809-172c0a762b00",
   "metadata": {},
   "outputs": [
    {
     "name": "stdout",
     "output_type": "stream",
     "text": [
      "{'emp1': {'name': 'xyz', 'job': 'abc'}, 'emp2': {'name': 'xyz', 'job': 'abc'}, 'emp3': {'name': 'xyz', 'job': 'abc'}}\n"
     ]
    }
   ],
   "source": [
    "# # Let’s build a nested-dictionary that stores employee record.(using a  fromkeys())\n",
    "\n",
    "IDs = ['emp1','emp2','emp3']\n",
    "Defaults = {'name': 'xyz', 'job': 'abc'}\n",
    "\n",
    "ND3 = dict.fromkeys(IDs, Defaults)\n",
    "\n",
    "print(ND3)"
   ]
  },
  {
   "cell_type": "markdown",
   "id": "6f380382-8cbf-4579-abb6-f9a87b310ceb",
   "metadata": {},
   "source": [
    "# Q7. Using setdefault() method, create key named topics in the given dictionary and also add the value of the key as this list ['Python', 'Machine Learning’, 'Deep Learning']\n",
    "# dict1 = {'language' : 'Python', 'course': 'Data Science Masters'}"
   ]
  },
  {
   "cell_type": "markdown",
   "id": "c77dbd1e-36cc-4eb4-a8ea-9c366da92db1",
   "metadata": {},
   "source": [
    "# Ans:"
   ]
  },
  {
   "cell_type": "code",
   "execution_count": 12,
   "id": "6f9f2689-098e-46ae-9765-116ba2b108e3",
   "metadata": {},
   "outputs": [
    {
     "name": "stdout",
     "output_type": "stream",
     "text": [
      "{'language': 'Python', 'course': 'Data Science Masters', 'topics': ['Python', 'Machine Learning', 'Deep Learning']}\n"
     ]
    }
   ],
   "source": [
    "dict1 = {'language' : 'Python', 'course': 'Data Science Masters'}\n",
    "dict1.setdefault(\"topics\",['Python', 'Machine Learning', 'Deep Learning'])\n",
    "print(dict1)"
   ]
  },
  {
   "cell_type": "markdown",
   "id": "3445ccf2-59f7-4eba-aee0-1ae577033743",
   "metadata": {},
   "source": [
    "# Q8. What are the three view objects in dictionaries? Use the three in-built methods in python to display these three view objects for the given dictionary. dict1 = {'Sport': 'Cricket' , 'Teams': ['India', 'Australia', 'England', 'South Africa', 'Sri Lanka', 'New Zealand']}"
   ]
  },
  {
   "cell_type": "markdown",
   "id": "e002ade8-dda4-4dc0-9861-d25e2bff2693",
   "metadata": {},
   "source": [
    "# Ans:"
   ]
  },
  {
   "cell_type": "markdown",
   "id": "5da89607-2f92-4e28-9704-b5769663cfaa",
   "metadata": {},
   "source": [
    "### The view objects of dictionary in python are keys, values and items."
   ]
  },
  {
   "cell_type": "code",
   "execution_count": 1,
   "id": "83d69983-01dc-4bac-be9e-3ce0ebc28223",
   "metadata": {},
   "outputs": [],
   "source": [
    "# Three in-built methods in python to display  three view objects :\n",
    "dict1 = {'Sport': 'Cricket' , 'Teams': ['India', 'Australia', 'England', 'South Africa', 'Sri Lanka', 'New Zealand']}"
   ]
  },
  {
   "cell_type": "code",
   "execution_count": 12,
   "id": "3c3bb219-e517-408d-b8fa-0393fcf022e4",
   "metadata": {},
   "outputs": [
    {
     "name": "stdout",
     "output_type": "stream",
     "text": [
      "These are the key of Dictionary(dict1) : dict_keys(['Sport', 'Teams'])\n"
     ]
    }
   ],
   "source": [
    "# 1) keys()\n",
    "\n",
    "print('These are the key of Dictionary(dict1) :',dict1.keys())"
   ]
  },
  {
   "cell_type": "code",
   "execution_count": 13,
   "id": "b13a4541-2bb9-4acf-b796-c40b4a3eb8de",
   "metadata": {},
   "outputs": [
    {
     "name": "stdout",
     "output_type": "stream",
     "text": [
      "These are the Values of Dictionary(dict1) : dict_values(['Cricket', ['India', 'Australia', 'England', 'South Africa', 'Sri Lanka', 'New Zealand']])\n"
     ]
    }
   ],
   "source": [
    "# 2)values()\n",
    "\n",
    "print('These are the Values of Dictionary(dict1) :',dict1.values())"
   ]
  },
  {
   "cell_type": "code",
   "execution_count": 15,
   "id": "b38a4314-4e4e-4ba8-bd9d-f832373dc642",
   "metadata": {},
   "outputs": [
    {
     "name": "stdout",
     "output_type": "stream",
     "text": [
      "These are the Item/key-value pair of Dictionary(dict1) : dict_items([('Sport', 'Cricket'), ('Teams', ['India', 'Australia', 'England', 'South Africa', 'Sri Lanka', 'New Zealand'])])\n"
     ]
    }
   ],
   "source": [
    "# 3) items() \n",
    "\n",
    "print('These are the Item/key-value pair of Dictionary(dict1) :',dict1.items())"
   ]
  },
  {
   "cell_type": "code",
   "execution_count": null,
   "id": "c1a1e1d2-7a07-4ad7-b32e-0c98ce116454",
   "metadata": {},
   "outputs": [],
   "source": []
  }
 ],
 "metadata": {
  "kernelspec": {
   "display_name": "Python 3 (ipykernel)",
   "language": "python",
   "name": "python3"
  },
  "language_info": {
   "codemirror_mode": {
    "name": "ipython",
    "version": 3
   },
   "file_extension": ".py",
   "mimetype": "text/x-python",
   "name": "python",
   "nbconvert_exporter": "python",
   "pygments_lexer": "ipython3",
   "version": "3.10.8"
  }
 },
 "nbformat": 4,
 "nbformat_minor": 5
}
